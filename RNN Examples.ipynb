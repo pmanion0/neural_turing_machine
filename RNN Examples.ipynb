{
 "cells": [
  {
   "cell_type": "markdown",
   "metadata": {},
   "source": [
    "### Comparison of RNN Approaches\n",
    "(see https://distill.pub/2016/augmented-rnns/)\n",
    "\n",
    "This creates a sample task, based on number sequences, and\n",
    "different goals to compare the performance of vanilla RNN's,\n",
    "LSTM's, NTM's, and attention based networks."
   ]
  },
  {
   "cell_type": "code",
   "execution_count": 1,
   "metadata": {},
   "outputs": [],
   "source": [
    "import torch"
   ]
  },
  {
   "cell_type": "code",
   "execution_count": 3,
   "metadata": {},
   "outputs": [],
   "source": [
    "from torch import nn, einsum\n",
    "from random import randint\n",
    "from torch.nn import functional as f"
   ]
  },
  {
   "cell_type": "code",
   "execution_count": 72,
   "metadata": {},
   "outputs": [],
   "source": [
    "from tasks.Numbers import Numbers\n",
    "import models\n",
    "from models.BasicRNN import BasicRNN"
   ]
  },
  {
   "cell_type": "code",
   "execution_count": 73,
   "metadata": {},
   "outputs": [
    {
     "data": {
      "text/plain": [
       "<module 'models' from '/home/jupyter/rnn_exploration/models/__init__.py'>"
      ]
     },
     "execution_count": 73,
     "metadata": {},
     "output_type": "execute_result"
    }
   ],
   "source": [
    "from importlib import reload\n",
    "reload(models)"
   ]
  },
  {
   "cell_type": "code",
   "execution_count": 53,
   "metadata": {},
   "outputs": [],
   "source": [
    "def train_model(model, number_tool, criterion, optim, train_size = 100e3, stream_size = 200, print_interval = 1e3):\n",
    "    ''' Runs a full training pass for a given model '''\n",
    "    \n",
    "    train_size = int(train_size)\n",
    "    print_interval = int(print_interval)\n",
    "    error_sum = 0\n",
    "    model_device = next(model.parameters()).device\n",
    "\n",
    "    for i in range(train_size):\n",
    "        # Generate a new random sequence for training\n",
    "        stream = number_tool.create_stream(stream_size)\n",
    "        obs = number_tool.encode_stream(stream).to(model_device)\n",
    "\n",
    "        # Reset the model gradients and hidden layer\n",
    "        model.zero_grad()\n",
    "        hidden = model.init_hidden()\n",
    "        \n",
    "        # Score the model\n",
    "        output, hidden = model.forward(obs, hidden)\n",
    "\n",
    "        # Determine the target output and calculate the loss\n",
    "        goal = number_tool.get_stream_goal(stream)\n",
    "        target = torch.LongTensor(goal).to(model_device)\n",
    "        loss = criterion(output.squeeze(1), target)\n",
    "\n",
    "        # Run backprop with the errors and update model/trackers\n",
    "        loss.backward()\n",
    "        optim.step()\n",
    "        error_sum += loss\n",
    "\n",
    "        if i % print_interval == 0:\n",
    "            print(f'[{i}] Error: {error_sum / print_interval}')\n",
    "            error_sum = 0"
   ]
  },
  {
   "cell_type": "markdown",
   "metadata": {},
   "source": [
    "## Model Definitions"
   ]
  },
  {
   "cell_type": "code",
   "execution_count": 55,
   "metadata": {},
   "outputs": [],
   "source": [
    "class BasicLSTM(nn.Module):\n",
    "    ''' Basic single-LSTM with output calculated using a single\n",
    "        linear layer with a softmax activation '''\n",
    "    \n",
    "    def __init__(self, input_size, hidden_size, output_size, output_length = 1):\n",
    "        ''' Init the LSTM '''\n",
    "        super(BasicLSTM, self).__init__()\n",
    "        self.lstm = nn.LSTM(input_size, hidden_size)\n",
    "        self.hidden_to_output = nn.Linear(hidden_size, output_size)\n",
    "        self.hidden_size = hidden_size\n",
    "        self.output_length = output_length\n",
    "        self.output_size = output_size\n",
    "        self.softmax = nn.LogSoftmax(dim=2)\n",
    "        \n",
    "    def forward(self, input, hidden):\n",
    "        ''' Run a forward path for a single number of sequence of numbers\n",
    "        \n",
    "        Hidden is made up of (hidden, cell_state)\n",
    "        \n",
    "        Returns:\n",
    "            output and hidden layer after last sequence input\n",
    "        '''\n",
    "        output = []\n",
    "        \n",
    "        history, hidden = self.lstm.forward(input, hidden)\n",
    "        \n",
    "        output.append(self.softmax(self.hidden_to_output(hidden[0])))\n",
    "        \n",
    "        for j in range(1, self.output_length):\n",
    "            history, hidden = self.lstm.forward(output[-1], hidden)\n",
    "            output.append(self.softmax(self.hidden_to_output(hidden[0])))\n",
    "            \n",
    "        output = torch.cat(output, dim=0)\n",
    "        return output, hidden\n",
    "    \n",
    "    def init_hidden(self):\n",
    "        ''' Returns new hidden layers for the start of a new sequence '''\n",
    "        model_device = next(self.parameters()).device\n",
    "        return (\n",
    "            torch.randn(1, 1, self.hidden_size).to(model_device),\n",
    "            torch.randn(1, 1, self.hidden_size).to(model_device)\n",
    "        )"
   ]
  },
  {
   "cell_type": "code",
   "execution_count": 56,
   "metadata": {},
   "outputs": [],
   "source": [
    "class NTM_LSTM(nn.Module):\n",
    "    '''  '''\n",
    "    \n",
    "    def __init__(self, input_size, hidden_size, output_size, memory_banks, memory_dim):\n",
    "        ''' Init the NTM-LSTM '''\n",
    "        super(NTM_LSTM, self).__init__()\n",
    "        self.hidden_size = hidden_size\n",
    "        self.memory_banks = memory_banks\n",
    "        self.memory_dim = memory_dim\n",
    "        \n",
    "        # Core LSTM and Memory\n",
    "        self.lstm = nn.LSTM(input_size + memory_dim, hidden_size)\n",
    "        self.mem_nn = MemoryNN(hidden_size, memory_banks, memory_dim)\n",
    "        \n",
    "        # Output Layer\n",
    "        self.hidden_to_output = nn.Linear(hidden_size, output_size)\n",
    "        self.softmax = nn.LogSoftmax(dim=2)\n",
    "        \n",
    "    \n",
    "    def forward(self, input, state):\n",
    "        ''' Run a forward path for a single number of sequence of numbers\n",
    "        \n",
    "        Args:\n",
    "            state: contains [hidden, cell, memory, last_weight]\n",
    "        \n",
    "        Returns:\n",
    "            output and hidden layer after last sequence input\n",
    "        '''\n",
    "        \n",
    "        hidden, cell, memory, weight = state\n",
    "        \n",
    "        for i in range(input.shape[0]):\n",
    "            ntm_input = torch.cat((input[i].unsqueeze(0), memory.view(1,1,-1)), dim=2)\n",
    "        \n",
    "            _, (hidden, cell) = self.lstm.forward(ntm_input, (hidden, cell))\n",
    "            memory, weight = self.mem_nn.forward(hidden, weight)\n",
    "        \n",
    "        output = self.hidden_to_output(hidden)\n",
    "        output = self.softmax(output)\n",
    "        \n",
    "        return output, (hidden, cell, memory, weight)\n",
    "    \n",
    "    \n",
    "    def init_hidden(self):\n",
    "        ''' Returns new hidden layers for the start of a new sequence '''\n",
    "        memory, weight = self.mem_nn.reset_memory()\n",
    "        \n",
    "        model_device = next(self.parameters()).device\n",
    "\n",
    "        return (\n",
    "            torch.randn(1, 1, self.hidden_size).to(model_device),\n",
    "            torch.randn(1, 1, self.hidden_size).to(model_device),\n",
    "            memory.to(model_device),\n",
    "            weight.to(model_device)\n",
    "        )"
   ]
  },
  {
   "cell_type": "markdown",
   "metadata": {},
   "source": [
    "## Problem Setup"
   ]
  },
  {
   "cell_type": "code",
   "execution_count": 57,
   "metadata": {},
   "outputs": [],
   "source": [
    "# Number Generator + Goal Setup\n",
    "max_number = 9\n",
    "goal_func = lambda stream: stream[0]\n",
    "\n",
    "'''number_tool = Numbers(\n",
    "    max_number,\n",
    "    reset_value_func = lambda x: randint(0,max_number),\n",
    "    goal_func = goal_func\n",
    ")'''\n",
    "\n",
    "number_tool = Numbers(\n",
    "    max_number,\n",
    "    increment_func = lambda incr: randint(0,9),\n",
    "    goal_func = lambda stream: stream[0:3]\n",
    ")"
   ]
  },
  {
   "cell_type": "code",
   "execution_count": 58,
   "metadata": {},
   "outputs": [],
   "source": [
    "# Training Size\n",
    "train_size = 100e3\n",
    "criterion = nn.NLLLoss()"
   ]
  },
  {
   "cell_type": "code",
   "execution_count": 59,
   "metadata": {},
   "outputs": [],
   "source": [
    "setup_kwargs = {\n",
    "    'train_size': train_size,\n",
    "    'number_tool': number_tool,\n",
    "    'criterion': criterion,\n",
    "    'stream_size': 200,\n",
    "    'model': None,\n",
    "    'optim': None\n",
    "}"
   ]
  },
  {
   "cell_type": "code",
   "execution_count": 60,
   "metadata": {},
   "outputs": [],
   "source": [
    "device = torch.device('cuda') if torch.cuda.is_available else torch.device('cpu')"
   ]
  },
  {
   "cell_type": "markdown",
   "metadata": {},
   "source": [
    "## Basic Vanilla RNN Model"
   ]
  },
  {
   "cell_type": "code",
   "execution_count": 74,
   "metadata": {},
   "outputs": [],
   "source": [
    "rnn = BasicRNN(number_tool.get_dim(), 5, number_tool.get_dim(), output_length = 3)\n",
    "rnn.to(device)\n",
    "\n",
    "rnn_optim = torch.optim.SGD(rnn.parameters(), lr = 0.001)\n",
    "\n",
    "rnn_kwargs = setup_kwargs.copy()\n",
    "rnn_kwargs['model'] = rnn\n",
    "rnn_kwargs['optim'] = rnn_optim"
   ]
  },
  {
   "cell_type": "code",
   "execution_count": 75,
   "metadata": {},
   "outputs": [
    {
     "ename": "RuntimeError",
     "evalue": "Expected a Tensor of type torch.FloatTensor but found a type torch.cuda.FloatTensor for sequence element 1 in sequence argument at position #1 'tensors'",
     "output_type": "error",
     "traceback": [
      "\u001b[0;31m---------------------------------------------------------------------------\u001b[0m",
      "\u001b[0;31mRuntimeError\u001b[0m                              Traceback (most recent call last)",
      "\u001b[0;32m<ipython-input-75-322d2903cda5>\u001b[0m in \u001b[0;36m<module>\u001b[0;34m\u001b[0m\n\u001b[0;32m----> 1\u001b[0;31m \u001b[0mtrain_model\u001b[0m\u001b[0;34m(\u001b[0m\u001b[0;34m**\u001b[0m\u001b[0mrnn_kwargs\u001b[0m\u001b[0;34m)\u001b[0m\u001b[0;34m\u001b[0m\u001b[0m\n\u001b[0m",
      "\u001b[0;32m<ipython-input-53-8e5065719470>\u001b[0m in \u001b[0;36mtrain_model\u001b[0;34m(model, number_tool, criterion, optim, train_size, stream_size, print_interval)\u001b[0m\n\u001b[1;32m     17\u001b[0m \u001b[0;34m\u001b[0m\u001b[0m\n\u001b[1;32m     18\u001b[0m         \u001b[0;31m# Score the model\u001b[0m\u001b[0;34m\u001b[0m\u001b[0;34m\u001b[0m\u001b[0m\n\u001b[0;32m---> 19\u001b[0;31m         \u001b[0moutput\u001b[0m\u001b[0;34m,\u001b[0m \u001b[0mhidden\u001b[0m \u001b[0;34m=\u001b[0m \u001b[0mmodel\u001b[0m\u001b[0;34m.\u001b[0m\u001b[0mforward\u001b[0m\u001b[0;34m(\u001b[0m\u001b[0mobs\u001b[0m\u001b[0;34m,\u001b[0m \u001b[0mhidden\u001b[0m\u001b[0;34m)\u001b[0m\u001b[0;34m\u001b[0m\u001b[0m\n\u001b[0m\u001b[1;32m     20\u001b[0m \u001b[0;34m\u001b[0m\u001b[0m\n\u001b[1;32m     21\u001b[0m         \u001b[0;31m# Determine the target output and calculate the loss\u001b[0m\u001b[0;34m\u001b[0m\u001b[0;34m\u001b[0m\u001b[0m\n",
      "\u001b[0;32m~/rnn_exploration/models/BasicRNN.py\u001b[0m in \u001b[0;36mforward\u001b[0;34m(self, input, hidden)\u001b[0m\n\u001b[1;32m     36\u001b[0m \u001b[0;34m\u001b[0m\u001b[0m\n\u001b[1;32m     37\u001b[0m         \u001b[0;32mfor\u001b[0m \u001b[0mj\u001b[0m \u001b[0;32min\u001b[0m \u001b[0mrange\u001b[0m\u001b[0;34m(\u001b[0m\u001b[0;36m1\u001b[0m\u001b[0;34m,\u001b[0m\u001b[0mself\u001b[0m\u001b[0;34m.\u001b[0m\u001b[0moutput_length\u001b[0m\u001b[0;34m)\u001b[0m\u001b[0;34m:\u001b[0m\u001b[0;34m\u001b[0m\u001b[0m\n\u001b[0;32m---> 38\u001b[0;31m             \u001b[0mcombined_input\u001b[0m \u001b[0;34m=\u001b[0m \u001b[0mtorch\u001b[0m\u001b[0;34m.\u001b[0m\u001b[0mcat\u001b[0m\u001b[0;34m(\u001b[0m\u001b[0;34m(\u001b[0m\u001b[0moutput\u001b[0m\u001b[0;34m[\u001b[0m\u001b[0;34m-\u001b[0m\u001b[0;36m1\u001b[0m\u001b[0;34m]\u001b[0m\u001b[0;34m.\u001b[0m\u001b[0munsqueeze\u001b[0m\u001b[0;34m(\u001b[0m\u001b[0;36m0\u001b[0m\u001b[0;34m)\u001b[0m\u001b[0;34m,\u001b[0m \u001b[0mhidden\u001b[0m\u001b[0;34m)\u001b[0m\u001b[0;34m,\u001b[0m \u001b[0mdim\u001b[0m\u001b[0;34m=\u001b[0m\u001b[0;36m2\u001b[0m\u001b[0;34m)\u001b[0m\u001b[0;34m\u001b[0m\u001b[0m\n\u001b[0m\u001b[1;32m     39\u001b[0m             \u001b[0mhidden\u001b[0m \u001b[0;34m=\u001b[0m \u001b[0mself\u001b[0m\u001b[0;34m.\u001b[0m\u001b[0minput_to_hidden\u001b[0m\u001b[0;34m(\u001b[0m\u001b[0mcombined_input\u001b[0m\u001b[0;34m)\u001b[0m\u001b[0;34m\u001b[0m\u001b[0m\n\u001b[1;32m     40\u001b[0m             \u001b[0moutput\u001b[0m\u001b[0;34m.\u001b[0m\u001b[0mappend\u001b[0m\u001b[0;34m(\u001b[0m\u001b[0mself\u001b[0m\u001b[0;34m.\u001b[0m\u001b[0msoftmax\u001b[0m\u001b[0;34m(\u001b[0m\u001b[0mself\u001b[0m\u001b[0;34m.\u001b[0m\u001b[0minput_to_output\u001b[0m\u001b[0;34m(\u001b[0m\u001b[0mcombined_input\u001b[0m\u001b[0;34m)\u001b[0m\u001b[0;34m)\u001b[0m\u001b[0;34m)\u001b[0m\u001b[0;34m\u001b[0m\u001b[0m\n",
      "\u001b[0;31mRuntimeError\u001b[0m: Expected a Tensor of type torch.FloatTensor but found a type torch.cuda.FloatTensor for sequence element 1 in sequence argument at position #1 'tensors'"
     ]
    }
   ],
   "source": [
    "train_model(**rnn_kwargs)"
   ]
  },
  {
   "cell_type": "markdown",
   "metadata": {},
   "source": [
    "## Basic LSTM Model"
   ]
  },
  {
   "cell_type": "code",
   "execution_count": 63,
   "metadata": {},
   "outputs": [],
   "source": [
    "lstm = BasicLSTM(number_tool.get_dim(), 5, number_tool.get_dim(), output_length = 3)\n",
    "lstm.to(device)\n",
    "\n",
    "lstm_optim = torch.optim.SGD(lstm.parameters(), lr = 0.001, momentum = 0.9)\n",
    "\n",
    "lstm_kwargs = setup_kwargs.copy()\n",
    "lstm_kwargs['model'] = lstm\n",
    "lstm_kwargs['optim'] = lstm_optim"
   ]
  },
  {
   "cell_type": "code",
   "execution_count": 64,
   "metadata": {},
   "outputs": [
    {
     "name": "stdout",
     "output_type": "stream",
     "text": [
      "[0] Error: 0.0024926080368459225\n",
      "[1000] Error: 2.0672757625579834\n",
      "[2000] Error: 1.67084538936615\n"
     ]
    },
    {
     "ename": "KeyboardInterrupt",
     "evalue": "",
     "output_type": "error",
     "traceback": [
      "\u001b[0;31m---------------------------------------------------------------------------\u001b[0m",
      "\u001b[0;31mKeyboardInterrupt\u001b[0m                         Traceback (most recent call last)",
      "\u001b[0;32m<ipython-input-64-ca47f86945a0>\u001b[0m in \u001b[0;36m<module>\u001b[0;34m\u001b[0m\n\u001b[1;32m      1\u001b[0m \u001b[0;31m#%debug\u001b[0m\u001b[0;34m\u001b[0m\u001b[0;34m\u001b[0m\u001b[0m\n\u001b[0;32m----> 2\u001b[0;31m \u001b[0mtrain_model\u001b[0m\u001b[0;34m(\u001b[0m\u001b[0;34m**\u001b[0m\u001b[0mlstm_kwargs\u001b[0m\u001b[0;34m)\u001b[0m\u001b[0;34m\u001b[0m\u001b[0m\n\u001b[0m",
      "\u001b[0;32m<ipython-input-53-8e5065719470>\u001b[0m in \u001b[0;36mtrain_model\u001b[0;34m(model, number_tool, criterion, optim, train_size, stream_size, print_interval)\u001b[0m\n\u001b[1;32m     10\u001b[0m         \u001b[0;31m# Generate a new random sequence for training\u001b[0m\u001b[0;34m\u001b[0m\u001b[0;34m\u001b[0m\u001b[0m\n\u001b[1;32m     11\u001b[0m         \u001b[0mstream\u001b[0m \u001b[0;34m=\u001b[0m \u001b[0mnumber_tool\u001b[0m\u001b[0;34m.\u001b[0m\u001b[0mcreate_stream\u001b[0m\u001b[0;34m(\u001b[0m\u001b[0mstream_size\u001b[0m\u001b[0;34m)\u001b[0m\u001b[0;34m\u001b[0m\u001b[0m\n\u001b[0;32m---> 12\u001b[0;31m         \u001b[0mobs\u001b[0m \u001b[0;34m=\u001b[0m \u001b[0mnumber_tool\u001b[0m\u001b[0;34m.\u001b[0m\u001b[0mencode_stream\u001b[0m\u001b[0;34m(\u001b[0m\u001b[0mstream\u001b[0m\u001b[0;34m)\u001b[0m\u001b[0;34m.\u001b[0m\u001b[0mto\u001b[0m\u001b[0;34m(\u001b[0m\u001b[0mmodel_device\u001b[0m\u001b[0;34m)\u001b[0m\u001b[0;34m\u001b[0m\u001b[0m\n\u001b[0m\u001b[1;32m     13\u001b[0m \u001b[0;34m\u001b[0m\u001b[0m\n\u001b[1;32m     14\u001b[0m         \u001b[0;31m# Reset the model gradients and hidden layer\u001b[0m\u001b[0;34m\u001b[0m\u001b[0;34m\u001b[0m\u001b[0m\n",
      "\u001b[0;32m~/rnn_exploration/tasks/Numbers.py\u001b[0m in \u001b[0;36mencode_stream\u001b[0;34m(self, num_stream)\u001b[0m\n\u001b[1;32m     78\u001b[0m             \u001b[0mvalue\u001b[0m \u001b[0;34m=\u001b[0m \u001b[0mnum\u001b[0m \u001b[0;32mif\u001b[0m \u001b[0mnum\u001b[0m \u001b[0;32min\u001b[0m \u001b[0mself\u001b[0m\u001b[0;34m.\u001b[0m\u001b[0mall_numbers\u001b[0m \u001b[0;32melse\u001b[0m \u001b[0mself\u001b[0m\u001b[0;34m.\u001b[0m\u001b[0minvalid_token\u001b[0m\u001b[0;34m\u001b[0m\u001b[0m\n\u001b[1;32m     79\u001b[0m             \u001b[0mind\u001b[0m \u001b[0;34m=\u001b[0m \u001b[0mself\u001b[0m\u001b[0;34m.\u001b[0m\u001b[0mall_classes\u001b[0m\u001b[0;34m.\u001b[0m\u001b[0mindex\u001b[0m\u001b[0;34m(\u001b[0m\u001b[0mvalue\u001b[0m\u001b[0;34m)\u001b[0m\u001b[0;34m\u001b[0m\u001b[0m\n\u001b[0;32m---> 80\u001b[0;31m             \u001b[0moutput\u001b[0m\u001b[0;34m[\u001b[0m\u001b[0mi\u001b[0m\u001b[0;34m,\u001b[0m\u001b[0;36m0\u001b[0m\u001b[0;34m,\u001b[0m\u001b[0mind\u001b[0m\u001b[0;34m]\u001b[0m \u001b[0;34m=\u001b[0m \u001b[0;36m1\u001b[0m\u001b[0;34m\u001b[0m\u001b[0m\n\u001b[0m\u001b[1;32m     81\u001b[0m \u001b[0;34m\u001b[0m\u001b[0m\n\u001b[1;32m     82\u001b[0m         \u001b[0;32mreturn\u001b[0m \u001b[0moutput\u001b[0m\u001b[0;34m\u001b[0m\u001b[0m\n",
      "\u001b[0;31mKeyboardInterrupt\u001b[0m: "
     ]
    }
   ],
   "source": [
    "#%debug\n",
    "train_model(**lstm_kwargs)"
   ]
  },
  {
   "cell_type": "code",
   "execution_count": 38,
   "metadata": {},
   "outputs": [],
   "source": [
    "x = [torch.zeros(1,1,2), torch.ones(1,1,2)]"
   ]
  },
  {
   "cell_type": "code",
   "execution_count": 49,
   "metadata": {},
   "outputs": [
    {
     "data": {
      "text/plain": [
       "torch.Size([2, 1, 2])"
      ]
     },
     "execution_count": 49,
     "metadata": {},
     "output_type": "execute_result"
    }
   ],
   "source": [
    "torch.cat(x, dim=0).shape"
   ]
  },
  {
   "cell_type": "markdown",
   "metadata": {},
   "source": [
    "## Neural Turing Machine Model"
   ]
  },
  {
   "cell_type": "code",
   "execution_count": 14,
   "metadata": {},
   "outputs": [],
   "source": [
    "memory_banks = 10\n",
    "memory_dim = 20\n",
    "\n",
    "ntm = NTM_LSTM(number_tool.get_dim(), 5, goal_dim, memory_banks, memory_dim)\n",
    "ntm_optim = torch.optim.SGD(ntm.parameters(), lr = 0.001)\n",
    "\n",
    "ntm_kwargs = setup_kwargs.copy()\n",
    "ntm_kwargs['model'] = ntm\n",
    "ntm_kwargs['optim'] = ntm_optim"
   ]
  },
  {
   "cell_type": "code",
   "execution_count": null,
   "metadata": {},
   "outputs": [
    {
     "name": "stderr",
     "output_type": "stream",
     "text": [
      "ERROR:root:No traceback has been produced, nothing to debug.\n"
     ]
    },
    {
     "name": "stdout",
     "output_type": "stream",
     "text": [
      "[0] Error: 0.0026836078613996506\n"
     ]
    }
   ],
   "source": [
    "%debug\n",
    "train_model(**ntm_kwargs)"
   ]
  },
  {
   "cell_type": "code",
   "execution_count": 90,
   "metadata": {},
   "outputs": [
    {
     "data": {
      "text/plain": [
       "'\\nx_pad = torch.cat((x[-1:], x, x[:1]))\\n\\ns = s.view(1,1,1,3)\\nx_pad = x_pad.view(1,1,1,8)\\n\\nout = f.conv2d(x_pad, s, padding=(0,1))\\n\\nprint(s)\\nprint(x)\\n#print(x_pad)\\n#print(out)\\nprint(out.view(-1)[1:-1])\\n'"
      ]
     },
     "execution_count": 90,
     "metadata": {},
     "output_type": "execute_result"
    }
   ],
   "source": [
    "'''\n",
    "x_pad = torch.cat((x[-1:], x, x[:1]))\n",
    "\n",
    "s = s.view(1,1,1,3)\n",
    "x_pad = x_pad.view(1,1,1,8)\n",
    "\n",
    "out = f.conv2d(x_pad, s, padding=(0,1))\n",
    "\n",
    "print(s)\n",
    "print(x)\n",
    "#print(x_pad)\n",
    "#print(out)\n",
    "print(out.view(-1)[1:-1])\n",
    "'''"
   ]
  },
  {
   "cell_type": "code",
   "execution_count": 87,
   "metadata": {},
   "outputs": [],
   "source": []
  },
  {
   "cell_type": "code",
   "execution_count": 91,
   "metadata": {},
   "outputs": [
    {
     "name": "stdout",
     "output_type": "stream",
     "text": [
      "tensor([0.4000, 0.0500, 0.5000, 0.0000, 0.0000, 0.0500])\n"
     ]
    },
    {
     "data": {
      "text/plain": [
       "tensor([0.0500, 0.4000, 0.0500, 0.5000, 0.0000, 0.0000])"
      ]
     },
     "execution_count": 91,
     "metadata": {},
     "output_type": "execute_result"
    }
   ],
   "source": [
    "s = torch.tensor([1.,0.,0.])\n",
    "x = torch.tensor([0.40, .05, .50, 0, 0, .05])\n",
    "\n",
    "print(x)\n",
    "_convolve(x,s)"
   ]
  },
  {
   "cell_type": "markdown",
   "metadata": {},
   "source": [
    "### ----------"
   ]
  },
  {
   "cell_type": "code",
   "execution_count": 185,
   "metadata": {},
   "outputs": [
    {
     "name": "stdout",
     "output_type": "stream",
     "text": [
      "[0, 9, 0, 2, 1, 4, 2, 5, 8, 0, 5, 8, 3, 8, 7, 2, 4, 9, 0, 6, 3, 4, 0, 7, 7, 4, 6, 0, 7, 4, 'END']\n",
      "[0, 9, 0]\n"
     ]
    }
   ],
   "source": [
    "criterion = nn.NLLLoss()\n",
    "\n",
    "n = Numbers(increment_func = lambda incr: randint(0,9), goal_func = lambda stream: stream[0:3])\n",
    "stream = n.create_stream(30)\n",
    "enc_stream = n.encode_stream(stream)\n",
    "\n",
    "goal = n.get_stream_goal(stream)\n",
    "#enc_goal = n.encode_stream(goal)\n",
    "target = torch.LongTensor(goal)\n",
    "\n",
    "print(stream)\n",
    "print(goal)"
   ]
  },
  {
   "cell_type": "code",
   "execution_count": 186,
   "metadata": {},
   "outputs": [],
   "source": [
    "l = BasicRNN(n.get_dim(), 5, n.get_dim(), 3)\n",
    "hid = l.init_hidden()"
   ]
  },
  {
   "cell_type": "code",
   "execution_count": 187,
   "metadata": {},
   "outputs": [],
   "source": [
    "the_out, the_hid = l.forward(enc_stream, hid)"
   ]
  },
  {
   "cell_type": "code",
   "execution_count": 188,
   "metadata": {},
   "outputs": [
    {
     "name": "stdout",
     "output_type": "stream",
     "text": [
      "torch.Size([3, 1, 12])\n",
      "torch.Size([3])\n"
     ]
    }
   ],
   "source": [
    "print(the_out.shape)\n",
    "print(target.shape)"
   ]
  },
  {
   "cell_type": "code",
   "execution_count": 189,
   "metadata": {},
   "outputs": [
    {
     "name": "stdout",
     "output_type": "stream",
     "text": [
      "torch.FloatTensor\n",
      "torch.LongTensor\n"
     ]
    }
   ],
   "source": [
    "print(the_out.type())#.dtype)\n",
    "print(target.type())#.dtype)"
   ]
  },
  {
   "cell_type": "code",
   "execution_count": 193,
   "metadata": {},
   "outputs": [
    {
     "name": "stdout",
     "output_type": "stream",
     "text": [
      "tensor([[[-2.0000, -2.3569, -2.5708, -2.4759, -2.5534, -2.4921, -2.2407,\n",
      "          -2.8699, -2.4082, -2.2069, -2.3062, -2.7231]],\n",
      "\n",
      "        [[-2.6584, -2.5391, -2.2816, -2.3469, -2.5293, -2.0000, -2.3893,\n",
      "          -2.6638, -2.5010, -2.3386, -2.4294, -2.6367]],\n",
      "\n",
      "        [[-2.6425, -2.5536, -2.2648, -2.3740, -2.5386, -2.5792, -2.0000,\n",
      "          -2.6355, -2.5383, -2.3667, -2.4502, -2.6071]]],\n",
      "       grad_fn=<CopySlices>)\n"
     ]
    }
   ],
   "source": [
    "the_out[0,0,0] = -2#5\n",
    "the_out[1,0,5] = -2#5\n",
    "the_out[2,0,6] = -2#5\n",
    "print(the_out)"
   ]
  },
  {
   "cell_type": "code",
   "execution_count": 194,
   "metadata": {},
   "outputs": [],
   "source": [
    "# Determine the target output and calculate the loss\n",
    "loss = criterion(the_out.squeeze(1), target)"
   ]
  },
  {
   "cell_type": "markdown",
   "metadata": {},
   "source": [
    "-----\n",
    "## Functional Testing\n",
    "-----"
   ]
  },
  {
   "cell_type": "code",
   "execution_count": 168,
   "metadata": {},
   "outputs": [
    {
     "name": "stdout",
     "output_type": "stream",
     "text": [
      "[RM TEST1] act:tensor([ 0.5261, -1.5163, -0.6044,  0.5245]) exp:tensor([ 0.5261, -1.5163, -0.6044,  0.5245])\n",
      "[RM TEST2] act:tensor([ 0.1845, -0.4467,  0.1367, -0.5949]) exp:tensor([ 0.1845, -0.4467,  0.1367, -0.5949])\n",
      "[WM TEST1] act:tensor([-0.9003,  0.9227, -0.7564]) exp:tensor([-0.9003,  0.9227, -0.7564])\n",
      "[WM TEST2] act:tensor([1.1107, 3.1953, 1.5835]) exp:tensor([1.1107, 3.1953, 1.5835])\n",
      "[WM TEST3] act:tensor([0., 0., 0.]) exp:tensor([0., 0., 0.])\n",
      "[WM TEST4] act:tensor([ 1.8990, -0.5792,  0.9731,  0.5017, -0.8982,  0.1428,  1.1492, -0.0978,\n",
      "         0.2197,  1.9246,  1.2118, -1.0656,  1.6490, -0.5932, -0.5040,  1.5088,\n",
      "         0.0564,  2.4903, -0.4258, -0.0668, -1.1677, -0.6731, -1.2875,  1.8346,\n",
      "        -1.0690,  0.2515,  1.2229, -0.3647,  1.2093, -1.9404]) exp:tensor([ 1.8990, -0.5792,  0.9731,  0.5017, -0.8982,  0.1428,  1.1492, -0.0978,\n",
      "         0.2197,  1.9246,  1.2118, -1.0656,  1.6490, -0.5932, -0.5040,  1.5088,\n",
      "         0.0564,  2.4903, -0.4258, -0.0668, -1.1677, -0.6731, -1.2875,  1.8346,\n",
      "        -1.0690,  0.2515,  1.2229, -0.3647,  1.2093, -1.9404])\n",
      "[WM TEST5] act:tensor([-0.3109,  0.3985, -0.7006, -0.1124,  1.6395,  2.1390, -0.2633,  1.3893,\n",
      "         1.7145,  0.3980, -0.7204,  1.3121, -1.7015,  1.9961,  1.0343, -0.4547,\n",
      "        -0.2033, -0.2037,  1.7371,  0.5964,  0.6251, -0.3435,  0.6808, -0.9837,\n",
      "         0.9623, -0.5929, -1.9174, -0.2652, -0.8744,  0.6952]) exp:tensor([-0.3109,  0.3985, -0.7006, -0.1124,  1.6395,  2.1390, -0.2633,  1.3893,\n",
      "         1.7145,  0.3980, -0.7204,  1.3121, -1.7015,  1.9961,  1.0343, -0.4547,\n",
      "        -0.2033, -0.2037,  1.7371,  0.5964,  0.6251, -0.3435,  0.6808, -0.9837,\n",
      "         0.9623, -0.5929, -1.9174, -0.2652, -0.8744,  0.6952])\n"
     ]
    }
   ],
   "source": [
    "# READ_MEMORY TESTS\n",
    "mem = Memory(10,4)\n",
    "\n",
    "flat = torch.ones(10)\n",
    "just_4 = torch.zeros(10)\n",
    "just_4[4] = 1\n",
    "\n",
    "act = mem.read(just_4)\n",
    "exp = mem.memory[4]\n",
    "print(f'[RM TEST1] act:{act} exp:{exp}')\n",
    "\n",
    "act = mem.read(flat)\n",
    "exp = mem.memory.mean(dim=0)\n",
    "print(f'[RM TEST2] act:{act} exp:{exp}')\n",
    "\n",
    "# WRITE_MEMORY TESTS\n",
    "mem_dim = 3\n",
    "\n",
    "att_flat = torch.ones(10)\n",
    "att_just_4 = torch.zeros(10)\n",
    "att_just_4[4] = 1\n",
    "\n",
    "forget_ones = torch.ones(mem_dim)\n",
    "forget_half = torch.ones(mem_dim) / 2\n",
    "forget_zeros = torch.zeros(mem_dim)\n",
    "\n",
    "add_zero = torch.zeros(mem_dim)\n",
    "add_ones = torch.ones(mem_dim)\n",
    "\n",
    "mem = Memory(10, mem_dim)\n",
    "exp = mem.memory[4]\n",
    "act = mem.write(att_just_4, forget_zeros, add_zero)[4]\n",
    "print(f'[WM TEST1] act:{act} exp:{exp}')\n",
    "\n",
    "mem = Memory(10, mem_dim)\n",
    "exp = mem.memory[4] + 1\n",
    "act = mem.write(att_just_4, forget_zeros, add_ones)[4]\n",
    "print(f'[WM TEST2] act:{act} exp:{exp}')\n",
    "\n",
    "mem = Memory(10, mem_dim)\n",
    "exp = torch.zeros_like(mem.memory[4])\n",
    "act = mem.write(att_just_4, forget_ones, add_zero)[4]\n",
    "print(f'[WM TEST3] act:{act} exp:{exp}')\n",
    "\n",
    "mem = Memory(10, mem_dim)\n",
    "exp = mem.memory * (1 - 0.5 / 10)\n",
    "act = mem.write(att_flat, forget_half, add_zero)\n",
    "print(f'[WM TEST4] act:{act.view(-1)} exp:{exp.view(-1)}')\n",
    "\n",
    "mem = Memory(10, mem_dim)\n",
    "exp = mem.memory * (1 - 0.5 / 10) + 0.1\n",
    "act = mem.write(att_flat, forget_half, add_ones)\n",
    "print(f'[WM TEST5] act:{act.view(-1)} exp:{exp.view(-1)}')"
   ]
  }
 ],
 "metadata": {
  "kernelspec": {
   "display_name": "Python 3",
   "language": "python",
   "name": "python3"
  },
  "language_info": {
   "codemirror_mode": {
    "name": "ipython",
    "version": 3
   },
   "file_extension": ".py",
   "mimetype": "text/x-python",
   "name": "python",
   "nbconvert_exporter": "python",
   "pygments_lexer": "ipython3",
   "version": "3.7.0"
  }
 },
 "nbformat": 4,
 "nbformat_minor": 2
}
